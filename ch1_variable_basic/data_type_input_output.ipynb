{
 "cells": [
  {
   "cell_type": "markdown",
   "metadata": {},
   "source": [
    "기본 변수들 할당및 변환 기본 입력, 출력 테스트, 연습장 \n",
    "여러 개의 값이 포함된 문자열을 출력할 때\n",
    " % 기호를 사용하여 변수를 대입할 수 있음. \n",
    " 여러 예제 중에서 %d, %f, %s 등을 사용한 포맷팅"
   ]
  },
  {
   "cell_type": "code",
   "execution_count": 13,
   "metadata": {},
   "outputs": [
    {
     "name": "stdout",
     "output_type": "stream",
     "text": [
      "기본출력방식 이름: 유영 나이: 20 키: 168.0\n",
      "20,168.000000,유영\n",
      "이름출력하기 유영\n",
      "나이출력 20\n",
      "키출력 168.000000\n",
      "이름 유영,나이 20\n",
      "이름1:유영,나이:20,키:168.000000\n",
      "이름2:유영,나이:20,키:168.0\n"
     ]
    }
   ],
   "source": [
    "#\n",
    "\n",
    "name=\"유영\"\n",
    "age=20\n",
    "height=168.0\n",
    "\n",
    "#기본출력1\n",
    "print(\"기본출력방식\",\"이름:\",name,\"나이:\",age,\"키:\",height)\n",
    "#기본출력2 :  %d는 정수, %f는 부동 소수점, %s는 문자열\n",
    "print(\"%d,%f,%s\"%(age,height,name))\n",
    "\n",
    "print(\"이름출력하기 %s\"%(name))\n",
    "print(\"나이출력 %d\"%(age))\n",
    "print(\"키출력 %f\"%(height))\n",
    "print(\"이름 %s,나이 %d\"%(name,age))\n",
    "\n",
    "\n",
    "print(\"이름1:%s,나이:%d,키:%f\"%(name,age,height))\n",
    "#기본출력3 = f 포맷스트링 \n",
    "print(f\"이름2:{name},나이:{age},키:{height}\")\n",
    "#안드로이드 버전 코틀린 로그출력과 같음 log.d(\"syy\",\"이름:${name}\")"
   ]
  },
  {
   "cell_type": "markdown",
   "metadata": {},
   "source": []
  },
  {
   "cell_type": "code",
   "execution_count": 19,
   "metadata": {},
   "outputs": [
    {
     "name": "stdout",
     "output_type": "stream",
     "text": [
      "a의 타입의 결과(함수type사용):<class 'str'>\n",
      "b의 타입의 결과(함수 type 사용): <class 'int'>\n",
      "c의 타입의 결과(함수 type 사용): <class 'str'>\n"
     ]
    }
   ],
   "source": [
    "#정수 실수 문자열 각 변환 및 입력 받아보기\n",
    "num1 =20 \n",
    "str1 =\"syy\"\n",
    "str2 =\"12345\"\n",
    "flo1 = 12.123\n",
    "#정수 문자열 반환\n",
    "a = str(num1)\n",
    "print(f\"a의 타입의 결과(함수type사용):{type(a)}\")\n",
    "\n",
    "# 문자열을 정수로 반환, int()\n",
    "b = int(str2)\n",
    "print(f\"b의 타입의 결과(함수 type 사용): {type(b)}\")\n",
    "# input() 표준입력\n",
    "# 필요시 해당 값을 정수등 변환해서 사용하면됨 \n",
    "c = input(\"본인이 좋아하는 숫자(1~5)선택해주세요\")\n",
    "print(f\"c의 타입의 결과(함수 type 사용): {type(c)}\")"
   ]
  },
  {
   "cell_type": "code",
   "execution_count": null,
   "metadata": {},
   "outputs": [],
   "source": []
  },
  {
   "cell_type": "markdown",
   "metadata": {},
   "source": []
  }
 ],
 "metadata": {
  "kernelspec": {
   "display_name": "Python 3",
   "language": "python",
   "name": "python3"
  },
  "language_info": {
   "codemirror_mode": {
    "name": "ipython",
    "version": 3
   },
   "file_extension": ".py",
   "mimetype": "text/x-python",
   "name": "python",
   "nbconvert_exporter": "python",
   "pygments_lexer": "ipython3",
   "version": "3.12.0"
  },
  "orig_nbformat": 4
 },
 "nbformat": 4,
 "nbformat_minor": 2
}
