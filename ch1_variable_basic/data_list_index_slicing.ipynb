{
 "cells": [
  {
   "cell_type": "markdown",
   "metadata": {},
   "source": [
    "리스트이고, 다른형끼리 가능 ? \n",
    "파이썬은 , 기본적으로 모든타입이 객체다 ? 모든게 참조형 \n"
   ]
  },
  {
   "cell_type": "code",
   "execution_count": 17,
   "metadata": {},
   "outputs": [
    {
     "name": "stdout",
     "output_type": "stream",
     "text": [
      "리스트 출력해보기.:[1, 2, 3, 4.5, '손유영']\n",
      " alist의 타입:<class 'list'>\n",
      " a 타입:<class 'int'>\n",
      "인덱싱:0번째 요소 :1\n",
      "슬라이싱:[0:3]:[1, 2, 3]\n",
      "슬라이싱:전체출력:[:]:[1, 2, 3, 4.5, '손유영']\n",
      "슬라이싱:전체출력:[::1]:[1, 2, 3, 4.5, '손유영']\n",
      "슬라이싱:전체출력:[::2]:[1, 3, '손유영']\n",
      "슬라이싱:증가값 +2 출력:[::2]:[1, 3, '손유영']\n",
      "슬라이싱:증가값 -1 출력:[::-1]:['손유영', 4.5, 3, 2, 1]\n",
      "슬라이싱:[2:-1]출력:[2:-1]:[3, 4.5]\n",
      "슬라이싱:[2:-1]출력:[2:4]:[3, 4.5]\n"
     ]
    }
   ],
   "source": [
    "alist=[1,2,3,4.5,\"손유영\"]\n",
    "print(f\"리스트 출력해보기.:{alist}\")\n",
    "print(f\" alist의 타입:{type(alist)}\")\n",
    "a=3\n",
    "print(f\" a 타입:{type(a)}\")\n",
    "\n",
    "#인덱스 , 슬라이싱, [a:b:c],a시작값 ,b:마지막값 ,c : 증가값\n",
    "#b마지막값은 포함이 안됨 \n",
    "#리버스 인덱싱 , 요소의 맨마지막이 -1부터 시작 \n",
    "print(f\"인덱싱:0번째 요소 :{alist[0]}\")\n",
    "#슬라이싱 예시 alist=[1,2,3,4.5,\"손유영\"] 끝자리 포함안됨 . \n",
    "print(f\"슬라이싱:[0:3]:{alist[0:3]}\")\n",
    "print(f\"슬라이싱:전체출력:[:]:{alist[:]}\")\n",
    "print(f\"슬라이싱:전체출력:[::1]:{alist[::1]}\")\n",
    "print(f\"슬라이싱:전체출력:[::2]:{alist[::2]}\")\n",
    "\n",
    "print(f\"슬라이싱:증가값 +2 출력:[::2]:{alist[::2]}\")\n",
    "print(f\"슬라이싱:증가값 -1 출력:[::-1]:{alist[::-1]}\")\n",
    "print(f\"슬라이싱:[2:-1]출력:[2:-1]:{alist[2:-1]}\")\n",
    "print(f\"슬라이싱:[2:-1]출력:[2:4]:{alist[2:4]}\")"
   ]
  },
  {
   "cell_type": "markdown",
   "metadata": {},
   "source": [
    "리스트 덧셈,곱셈,in 연산자 \n",
    " "
   ]
  },
  {
   "cell_type": "code",
   "execution_count": 22,
   "metadata": {},
   "outputs": [
    {
     "name": "stdout",
     "output_type": "stream",
     "text": [
      "sumList 출력 :[1, 2, 3, 4.5, '손유영', 1, 2, 3, 4.5, '손유영']\n",
      "mulList 출력 :[1, 2, 3, 4.5, '손유영', 1, 2, 3, 4.5, '손유영', 1, 2, 3, 4.5, '손유영']\n",
      "alist의 요소 값중 3이있나여?:True\n"
     ]
    }
   ],
   "source": [
    "#리스트 덧셈\n",
    "alist=[1,2,3,4.5,\"손유영\"] \n",
    "sumList = alist+alist\n",
    "mulList = alist*3\n",
    "print(f\"sumList 출력 :{sumList}\")\n",
    "print(f\"mulList 출력 :{mulList}\")\n",
    "#in 연산자 확인 \n",
    "print(f\"alist의 요소 값중 3이있나여?:{3 in sumList}\")\n",
    "\n",
    "\n"
   ]
  },
  {
   "cell_type": "code",
   "execution_count": 30,
   "metadata": {},
   "outputs": [
    {
     "name": "stdout",
     "output_type": "stream",
     "text": [
      "alist 출력: [1, 2, 3, 4.5, '손유영', '손유영2']\n",
      "alist 출력: [1, 2, 3, 4.5, '손유영']\n",
      "alist 출력: ['syy', 1, 2, 3, 4.5, '손유영', '손유영2', 'a', 'b', 'c']\n",
      "alist 출력: ['syy', 1, 2, 3, 4.5, '손유영', 'a', 'b', 'c']\n",
      "alist 출력 : ['syy 대신 덮어쓰기', 1, 2, 3, 4.5, '손유영', 'a', 'b', 'c']\n",
      "alist 출력 : [1, 2, 3, 4.5, '손유영', 'a', 'b', 'c']\n"
     ]
    }
   ],
   "source": [
    "#기본문법 30p \n",
    "#append 값 새로 추가 \n",
    "alist=[1,2,3,4.5,\"손유영\"] \n",
    "alist.append(\"손유영2\")\n",
    "print(f\"alist 출력: {alist}\")\n",
    "# extend: 리스트에 다른 리스트의 요소를 추가\n",
    "blist = [1, 2, 3, 4.5, \"손유영\"]\n",
    "clist = [\"a\", \"b\", \"c\"]\n",
    "alist.extend(clist)\n",
    "print(f\"alist 출력: {blist}\")\n",
    "\n",
    "# insert: 특정 인덱스에 요소 추가\n",
    "alist.insert(0, \"syy\")\n",
    "print(f\"alist 출력: {alist}\")\n",
    "\n",
    "# remove: 특정 요소 삭제\n",
    "alist.remove(\"손유영2\")\n",
    "print(f\"alist 출력: {alist}\")\n",
    "\n",
    "# 재할당, 요소에 직접 접근해서, 덮어쓰기 \n",
    "alist[0] = \"syy 대신 덮어쓰기\"\n",
    "print(f\"alist 출력 : {alist}\")\n",
    "\n",
    "# del 함수 이용해서, 해당 요소 삭제\n",
    "del alist[0]\n",
    "print(f\"alist 출력 : {alist}\")"
   ]
  },
  {
   "cell_type": "code",
   "execution_count": 31,
   "metadata": {},
   "outputs": [
    {
     "name": "stdout",
     "output_type": "stream",
     "text": [
      "a리스트 : [1, 2, 3],x:1,y:2,z:3\n"
     ]
    }
   ],
   "source": [
    "#패킹 언패킹 = 리액트에서는 비구조화 할당 \n",
    "a = [1,2,3]\n",
    "x,y,z =a \n",
    "print(f\"a리스트 : {a},x:{x},y:{y},z:{z}\")"
   ]
  },
  {
   "cell_type": "code",
   "execution_count": 36,
   "metadata": {},
   "outputs": [
    {
     "name": "stdout",
     "output_type": "stream",
     "text": [
      "alist와 blist 저장된 위치 주소값 비교 :False\n",
      "a와 b 저장된 위치 주소값 비교 :False\n",
      "c와 d 저장된 위치 주소값 비교 :True\n",
      "e와 f 저장된 위치 주소값 비교 :True\n",
      "g와 h 저장된 위치 주소값 비교 :False\n"
     ]
    }
   ],
   "source": [
    "#리스트의 요소의 메모리 위치저장소 간단히 확인 \n",
    "alist=[1,2,3]\n",
    "blist=[1,2,3]\n",
    "a=300\n",
    "b=300\n",
    "c=1\n",
    "d=1\n",
    "e=256\n",
    "f=256\n",
    "g=257\n",
    "h=257\n",
    "#is /== 모두 객체 \n",
    "print(f\"alist와 blist 저장된 위치 주소값 비교 :{alist is blist}\")\n",
    "print(f\"a와 b 저장된 위치 주소값 비교 :{a is b}\")\n",
    "# 얘는 값이 true인 이유 : ~256 은 같은 저장소를 사용한다 \n",
    "print(f\"c와 d 저장된 위치 주소값 비교 :{c is d}\")\n",
    "# 예시 256이상 \n",
    "print(f\"e와 f 저장된 위치 주소값 비교 :{e is f}\")\n",
    "print(f\"g와 h 저장된 위치 주소값 비교 :{g is h}\")\n"
   ]
  },
  {
   "cell_type": "markdown",
   "metadata": {},
   "source": [
    "#얕은 복사임둥\n",
    "리스트는 기본적으로 값을 연속으로 저장하는것이 아니라 값이 있는 주소를 저장하는 방식\n",
    "메모리의 위치 주소값 * \n",
    "그래서 타입이 여러개가 올수있는거램 "
   ]
  }
 ],
 "metadata": {
  "kernelspec": {
   "display_name": "Python 3",
   "language": "python",
   "name": "python3"
  },
  "language_info": {
   "codemirror_mode": {
    "name": "ipython",
    "version": 3
   },
   "file_extension": ".py",
   "mimetype": "text/x-python",
   "name": "python",
   "nbconvert_exporter": "python",
   "pygments_lexer": "ipython3",
   "version": "3.12.0"
  },
  "orig_nbformat": 4
 },
 "nbformat": 4,
 "nbformat_minor": 2
}
