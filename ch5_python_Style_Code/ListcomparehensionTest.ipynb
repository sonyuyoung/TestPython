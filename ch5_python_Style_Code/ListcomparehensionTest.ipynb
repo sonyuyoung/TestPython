{
 "cells": [
  {
   "cell_type": "code",
   "execution_count": 1,
   "metadata": {},
   "outputs": [
    {
     "name": "stdout",
     "output_type": "stream",
     "text": [
      "result 조회 : [0, 1, 2, 3, 4, 5, 6, 7, 8, 9]\n"
     ]
    }
   ],
   "source": [
    "\n",
    "# 기존의 새리스트 추가시 , 반복문이나 안에 로직을 이용해서 , 작업 \n",
    "# 컴프리핸션으로 작업을 하면 해당리스트에 반복문을 주입해서 바로 출력 \n",
    "# 0~9 담기 ? \n",
    "result = [i for i in range(10)]\n",
    "print(f\"result 조회 : {result}\")"
   ]
  },
  {
   "cell_type": "markdown",
   "metadata": {},
   "source": [
    "리스트를 한 줄의 코드로 손쉽게 만들 수 있는 list comprehension이라는 문법"
   ]
  },
  {
   "cell_type": "code",
   "execution_count": 4,
   "metadata": {},
   "outputs": [
    {
     "name": "stdout",
     "output_type": "stream",
     "text": [
      "result 조회 : [0, 2, 4, 6, 8]\n"
     ]
    }
   ],
   "source": [
    "# 필터링\n",
    "# 컴프리핸션으로 작업을 하면 해당리스트에 반복문을 주입해서 바로 출력 \n",
    "# 조건문 추가하기, 짝수만 저장 \n",
    "result = [i for i in range(10)if i%2==0]\n",
    "print(f\"result 조회 : {result}\")"
   ]
  },
  {
   "cell_type": "code",
   "execution_count": 8,
   "metadata": {},
   "outputs": [
    {
     "name": "stdout",
     "output_type": "stream",
     "text": [
      "result 조회 : [0, 77, 2, 77, 4, 77, 6, 77, 8, 77]\n"
     ]
    }
   ],
   "source": [
    "# 조건문 추가하기, 2로 나누어 떨어지지않으면 77  \n",
    "# else문 추가 \n",
    "result = [i if i%2==0 else 77 for i in range(10)]\n",
    "print(f\"result 조회 : {result}\")"
   ]
  },
  {
   "cell_type": "code",
   "execution_count": 11,
   "metadata": {},
   "outputs": [
    {
     "name": "stdout",
     "output_type": "stream",
     "text": [
      "result조회 : ['a1', 'a2', 'a3', 'b1', 'b2', 'b3', 'c1', 'c2', 'c3']\n"
     ]
    }
   ],
   "source": [
    "# 중첩 반복문 이용 test1 을 중심으로 \n",
    "test1 = \"abc\"\n",
    "test2 = \"123\"\n",
    "result =[i+j for i in test1 for j in test2]\n",
    "print(f\"result조회 : {result}\")"
   ]
  },
  {
   "cell_type": "code",
   "execution_count": 12,
   "metadata": {},
   "outputs": [
    {
     "name": "stdout",
     "output_type": "stream",
     "text": [
      "result조회 : ['ab', 'ac', 'ba', 'bc', 'ca', 'cb']\n"
     ]
    }
   ],
   "source": [
    "# 중첩 반복문 이용 조건붙이기 필터링 \n",
    "# if not(i==j)\n",
    "test1 = [\"a\",\"b\",\"c\"]\n",
    "test2 = [\"a\",\"b\",\"c\"]\n",
    "result =[i+j for i in test1 for j in test2 if not(i==j)]\n",
    "print(f\"result조회 : {result}\")"
   ]
  },
  {
   "cell_type": "code",
   "execution_count": 13,
   "metadata": {},
   "outputs": [
    {
     "name": "stdout",
     "output_type": "stream",
     "text": [
      "result조회 : [['a1', 'b1', 'c1'], ['a2', 'b2', 'c2'], ['a3', 'b3', 'c3']]\n"
     ]
    }
   ],
   "source": [
    "#컴프리핸션 이용해서 리스트안에 리스트 이중리스트: 엄청많이 사용됨 \n",
    "\n",
    "test1 = [\"a\",\"b\",\"c\"]\n",
    "test2 = [\"1\",\"2\",\"3\"]\n",
    "result =[[i+j for i in test1] for j in test2]\n",
    "print(f\"result조회 : {result}\")"
   ]
  },
  {
   "cell_type": "code",
   "execution_count": null,
   "metadata": {},
   "outputs": [],
   "source": [
    "#기존의 반복문으로 새리스트를 추가하는것보다 \n",
    "#컴프리핸션을 이용해서 새리스트를 추가하는 것이 성능상 더 좋다 \n",
    "#기존 리스트 -> Numpy 로 배열로 갈아타기 더 성능이 좋다 \n"
   ]
  },
  {
   "cell_type": "code",
   "execution_count": 14,
   "metadata": {},
   "outputs": [
    {
     "name": "stdout",
     "output_type": "stream",
     "text": [
      "a, b 조회: a, 1\n",
      "a, b 조회: b, 2\n",
      "a, b 조회: c, 3\n"
     ]
    }
   ],
   "source": [
    "#zip 함수 묶어서 출력 같은 위치에 있는 값끼리 소괄호 듀플 \n",
    "test1 = [\"a\", \"b\", \"c\"]\n",
    "test2 = [\"1\", \"2\", \"3\"]\n",
    "\n",
    "for a, b in zip(test1, test2):\n",
    "    print(f\"a, b 조회: {a}, {b}\")"
   ]
  },
  {
   "cell_type": "code",
   "execution_count": 17,
   "metadata": {},
   "outputs": [
    {
     "name": "stdout",
     "output_type": "stream",
     "text": [
      "a, b , c 조회: (1, 4, 7), (2, 5, 8),(3, 6, 9)\n",
      "result조회 : [12, 15, 18]\n"
     ]
    }
   ],
   "source": [
    "# zip 함수 이용해서 각 인덱스끼리 묶기 \n",
    "# 각 인덱스 요소를 합 구하기 \n",
    "a,b,c = zip((1,2,3),(4,5,6),(7,8,9))\n",
    "print(f\"a, b , c 조회: {a}, {b},{c}\")\n",
    "\n",
    "# 각 인덱스 합구하기 \n",
    "result=[sum(x) for x in zip((1,2,3),(4,5,6),(7,8,9))]\n",
    "print(f\"result조회 : {result}\")\n"
   ]
  }
 ],
 "metadata": {
  "kernelspec": {
   "display_name": "Python 3",
   "language": "python",
   "name": "python3"
  },
  "language_info": {
   "codemirror_mode": {
    "name": "ipython",
    "version": 3
   },
   "file_extension": ".py",
   "mimetype": "text/x-python",
   "name": "python",
   "nbconvert_exporter": "python",
   "pygments_lexer": "ipython3",
   "version": "3.12.0"
  },
  "orig_nbformat": 4
 },
 "nbformat": 4,
 "nbformat_minor": 2
}
