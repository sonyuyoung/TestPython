{
 "cells": [
  {
   "cell_type": "code",
   "execution_count": 1,
   "metadata": {},
   "outputs": [
    {
     "name": "stdout",
     "output_type": "stream",
     "text": [
      "result 결과 : 3\n"
     ]
    }
   ],
   "source": [
    "# 람다 기본문법 : 키워드 lamda 매개변수 : 리턴값 \n",
    "# 리턴값은 나누기 곱하기 뭐 다쓸수있음 \n",
    "f = lambda x,y : x+y \n",
    "result = f(1,2)\n",
    "print(f\"result 결과 : {result}\")"
   ]
  }
 ],
 "metadata": {
  "kernelspec": {
   "display_name": "Python 3",
   "language": "python",
   "name": "python3"
  },
  "language_info": {
   "codemirror_mode": {
    "name": "ipython",
    "version": 3
   },
   "file_extension": ".py",
   "mimetype": "text/x-python",
   "name": "python",
   "nbconvert_exporter": "python",
   "pygments_lexer": "ipython3",
   "version": "3.12.0"
  },
  "orig_nbformat": 4
 },
 "nbformat": 4,
 "nbformat_minor": 2
}
