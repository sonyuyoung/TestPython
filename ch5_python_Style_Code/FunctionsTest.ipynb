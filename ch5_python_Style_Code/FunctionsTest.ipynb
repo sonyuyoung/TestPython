{
 "cells": [
  {
   "cell_type": "code",
   "execution_count": 2,
   "metadata": {},
   "outputs": [
    {
     "name": "stdout",
     "output_type": "stream",
     "text": [
      "result join 함수이용후 조회 :red,blue,green,yellow\n"
     ]
    }
   ],
   "source": [
    "#join 함수 이용\n",
    "colors = ['red','blue','green','yellow']\n",
    "# \" \" 안에 구분자 넣기, 예) 공백 , 콤마 등.\n",
    "result =\",\".join(colors)\n",
    "print(f\"result join 함수이용후 조회 :{result}\")"
   ]
  }
 ],
 "metadata": {
  "kernelspec": {
   "display_name": "Python 3",
   "language": "python",
   "name": "python3"
  },
  "language_info": {
   "codemirror_mode": {
    "name": "ipython",
    "version": 3
   },
   "file_extension": ".py",
   "mimetype": "text/x-python",
   "name": "python",
   "nbconvert_exporter": "python",
   "pygments_lexer": "ipython3",
   "version": "3.12.0"
  },
  "orig_nbformat": 4
 },
 "nbformat": 4,
 "nbformat_minor": 2
}
