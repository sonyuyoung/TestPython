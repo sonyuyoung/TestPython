{
 "cells": [
  {
   "cell_type": "code",
   "execution_count": null,
   "metadata": {},
   "outputs": [],
   "source": [
    "# 주의사항은 해당사이트의 정보(데이터)의 허용범위를 꼭 조회후 해야함\n",
    "# 예시 https://www.yes24.com/robots.txt\n",
    "\n",
    "### !!!주의 사항!!!\n",
    "# 해당 사이트의 정보(데이터)의 허용 범위를 꼭 조회 후 해야함. \n",
    "## 예) https://www.nate.com/robots.txt \n",
    "## 뒤에 robots.txt 를 붙이면 됩니다. \n",
    "## 꼭 확인 후 자료 수집 하기. "
   ]
  }
 ],
 "metadata": {
  "language_info": {
   "name": "python"
  },
  "orig_nbformat": 4
 },
 "nbformat": 4,
 "nbformat_minor": 2
}
