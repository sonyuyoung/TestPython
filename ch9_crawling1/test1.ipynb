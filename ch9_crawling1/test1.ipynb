{
 "cells": [
  {
   "cell_type": "code",
   "execution_count": null,
   "metadata": {},
   "outputs": [],
   "source": [
    "# 주의사항은 해당사이트의 정보(데이터)의 허용범위를 꼭 조회후 해야함\n",
    "# 예시 https://www.yes24.com/robots.txt\n",
    "\n"
   ]
  }
 ],
 "metadata": {
  "language_info": {
   "name": "python"
  },
  "orig_nbformat": 4
 },
 "nbformat": 4,
 "nbformat_minor": 2
}
