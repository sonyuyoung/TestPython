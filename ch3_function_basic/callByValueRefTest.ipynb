{
 "cells": [
  {
   "cell_type": "code",
   "execution_count": 1,
   "metadata": {},
   "outputs": [
    {
     "name": "stdout",
     "output_type": "stream",
     "text": [
      "함수 내부의 y 값 : 3\n",
      "func1 (x) 값 조회 : 9\n",
      "함수 호출 후 x 값 조회 : 3\n"
     ]
    }
   ],
   "source": [
    "# call by value , \n",
    "def func1(x): # 함수의 매개변수 x 정의 \n",
    "  y = x # y는 지역변수, 함수 내부에서 생성이 되었다. \n",
    "  print(f\"함수 내부의 y 값 : {y}\")\n",
    "  x = 5 # 지역변수 \n",
    "  return y * y \n",
    "\n",
    "# 전역변수\n",
    "x = 3\n",
    "print(f\"func1 (x) 값 조회 : {func1(x)}\")\n",
    "print(f\"함수 호출 후 x 값 조회 : {x}\")"
   ]
  },
  {
   "cell_type": "code",
   "execution_count": 2,
   "metadata": {},
   "outputs": [
    {
     "name": "stdout",
     "output_type": "stream",
     "text": [
      "list2의 id 조회 : 4417326656\n",
      "함수 호출시 list의 id 조회 : 4417326656\n",
      "함수 호출시 list 출력해보기 : [0]\n",
      "함수 호출시 list append(1) 후 출력해보기 : [0, 1]\n",
      "함수 호출시 list append(1) 후 list의 id 조회 : 4417326656\n",
      "함수 호출시  list = [2,3] 후 출력해보기 : [2, 3]\n",
      "함수 호출시 list = [2,3]  후 list의 id 조회 : 4417210944\n",
      "list2 출력해보기 : [0, 1]\n",
      "test 함수 호출 후 list2의 id 조회 : 4417326656\n",
      "list 출력해보기 : <class 'list'>\n",
      "test 함수 호출 후 list의 id 조회 : 4356625152\n"
     ]
    }
   ],
   "source": [
    "# call by ref\n",
    "def test(list): # list 매개변수 \n",
    "  print(f\"함수 호출시 list의 id 조회 : {id(list)}\")\n",
    "  print(f\"함수 호출시 list 출력해보기 : {list}\")\n",
    "  # 여기까지가, 전달받은 , list의 메모리 주소이고\n",
    "  list.append(10) \n",
    "  print(f\"함수 호출시 list append(1) 후 출력해보기 : {list}\")\n",
    "  print(f\"함수 호출시 list append(1) 후 list의 id 조회 : {id(list)}\")\n",
    "\n",
    "  # 여기부터 새로운 list의 메모리 주소이고, 지역변수\n",
    "  list = [2,3] # 지역변수, 재할당\n",
    "  print(f\"함수 호출시  list = [2,3] 후 출력해보기 : {list}\")\n",
    "  print(f\"함수 호출시 list = [2,3]  후 list의 id 조회 : {id(list)}\")\n",
    "\n",
    "# 전역 , 리스트 \n",
    "list2 = [0]\n",
    "print(f\"list2의 id 조회 : {id(list2)}\")\n",
    "test(list2)\n",
    "print(f\"list2 출력해보기 : {list2}\")\n",
    "print(f\"test 함수 호출 후 list2의 id 조회 : {id(list2)}\")\n",
    "print(f\"list 출력해보기 : {list}\")\n",
    "print(f\"test 함수 호출 후 list의 id 조회 : {id(list)}\")"
   ]
  }
 ],
 "metadata": {
  "kernelspec": {
   "display_name": "Python 3",
   "language": "python",
   "name": "python3"
  },
  "language_info": {
   "codemirror_mode": {
    "name": "ipython",
    "version": 3
   },
   "file_extension": ".py",
   "mimetype": "text/x-python",
   "name": "python",
   "nbconvert_exporter": "python",
   "pygments_lexer": "ipython3",
   "version": "3.12.0"
  },
  "orig_nbformat": 4
 },
 "nbformat": 4,
 "nbformat_minor": 2
}
