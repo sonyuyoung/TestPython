{
 "cells": [
  {
   "cell_type": "code",
   "execution_count": 5,
   "metadata": {},
   "outputs": [
    {
     "name": "stdout",
     "output_type": "stream",
     "text": [
      "deque_list출력 :deque([0, 1, 2, 3, 4])\n",
      "deque_list출력 :deque([0, 1, 2, 3])\n",
      "deque_list출력 :deque([0, 1, 2])\n"
     ]
    }
   ],
   "source": [
    "from collections import deque\n",
    "\n",
    "deque_list = deque()\n",
    "for i in range(5):  # 시작, 끝 ,증가값 , 끝값은 미포함 \n",
    "    deque_list.append(i)  # 하나씩 추가\n",
    "print(f\"deque_list출력 :{deque_list}\")\n",
    "\n",
    "\n",
    "#스택처럼 하나씩 뒤에 값부터 꺼내기.pop 0,1,2,3,4 에서 마지막값 4 꺼냄 \n",
    "deque_list.pop()\n",
    "print(f\"deque_list출력 :{deque_list}\")\n",
    "#스택처럼 하나씩 뒤에 값부터 꺼내기.pop 0,1,2,3 에서 마지막값 3 꺼냄 \n",
    "deque_list.pop()\n",
    "print(f\"deque_list출력 :{deque_list}\")\n"
   ]
  },
  {
   "cell_type": "code",
   "execution_count": 6,
   "metadata": {},
   "outputs": [
    {
     "name": "stdout",
     "output_type": "stream",
     "text": [
      "deque_list출력 :deque([4, 3, 2, 1, 0])\n"
     ]
    }
   ],
   "source": [
    "#deque를 큐처럼 사용하기 , appendleft() 함수이용\n",
    "#왼쪽부터 입력하게해서 들어간 값부터 출력하기 fifo\n",
    "from collections import deque\n",
    "\n",
    "deque_list = deque()\n",
    "for i in range(5):  # 시작, 끝 ,증가값 , 끝값은 미포함 \n",
    "    deque_list.appendleft(i)  # 하나씩 추가\n",
    "# 기본에 append로 추가시 오른쪽으로 추가했음 , \n",
    "# 결과가 ([0, 1, 2, 3, 4]) 나왔는데 , \n",
    "print(f\"deque_list출력 :{deque_list}\")\n"
   ]
  },
  {
   "cell_type": "markdown",
   "metadata": {},
   "source": [
    "appendleft = > 왼쪽부터 숫자 넣음 ([4, 3, 2, 1, 0]) 이런식으로 \n",
    "먼저 들어간값부터 출력할수있도록함 \n",
    "큐랑 디큐 , \n",
    "어펜드 , 어펜드 레프트 , \n",
    "팝 , 로테이트 rotate(2)\n"
   ]
  },
  {
   "cell_type": "code",
   "execution_count": 12,
   "metadata": {},
   "outputs": [
    {
     "name": "stdout",
     "output_type": "stream",
     "text": [
      "deque_list출력 :deque([4, 3, 2, 1, 0])\n",
      "deque_list출력 :deque([1, 0, 4, 3, 2])\n"
     ]
    }
   ],
   "source": [
    "# deque 는 각 요소의 다음요소의 메모리 위치 주소값을 알고있다 \n",
    "# 마지막 요소는 맨처음 요소의 메모리 위치 주소값을알고있다 \n",
    "# 결론 : 처음과 끝이 연결이된 구조가되고 이것을 이용해서 각요소 순회가능\n",
    "# 원형으로 ,,, \n",
    "\n",
    "from collections import deque\n",
    "\n",
    "deque_list = deque()\n",
    "for i in range(5):  # 시작, 끝 ,증가값 , 끝값은 미포함 \n",
    "    deque_list.appendleft(i)  # 하나씩 추가\n",
    "print(f\"deque_list출력 :{deque_list}\")\n",
    "\n",
    "#rotate 이용하기 \n",
    "# 각요소가 2칸씩 떙겨짐 \n",
    "deque_list.rotate(2)\n",
    "print(f\"deque_list출력 :{deque_list}\")"
   ]
  },
  {
   "cell_type": "code",
   "execution_count": 14,
   "metadata": {},
   "outputs": [
    {
     "name": "stdout",
     "output_type": "stream",
     "text": [
      "deque_list출력 :deque([4, 3, 2, 1, 0])\n",
      "deque_list출력 :deque([0, 1, 2, 3, 4])\n"
     ]
    }
   ],
   "source": [
    "#리버스->  슬라이싱과 함꼐 오름차순 내림차순 힐때 슬수있음 \n",
    "\n",
    "from collections import deque\n",
    "\n",
    "deque_list = deque()\n",
    "for i in range(5):  # 시작, 끝 ,증가값 , 끝값은 미포함 \n",
    "    deque_list.appendleft(i)  # 하나씩 추가\n",
    "print(f\"deque_list출력 :{deque_list}\")\n",
    "deque_list_reversed = deque(reversed(deque_list))\n",
    "print(f\"deque_list출력 :{deque_list_reversed}\")\n"
   ]
  }
 ],
 "metadata": {
  "kernelspec": {
   "display_name": "Python 3",
   "language": "python",
   "name": "python3"
  },
  "language_info": {
   "codemirror_mode": {
    "name": "ipython",
    "version": 3
   },
   "file_extension": ".py",
   "mimetype": "text/x-python",
   "name": "python",
   "nbconvert_exporter": "python",
   "pygments_lexer": "ipython3",
   "version": "3.12.0"
  },
  "orig_nbformat": 4
 },
 "nbformat": 4,
 "nbformat_minor": 2
}
