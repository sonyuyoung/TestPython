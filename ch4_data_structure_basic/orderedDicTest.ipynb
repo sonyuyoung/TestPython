{
 "cells": [
  {
   "cell_type": "code",
   "execution_count": 2,
   "metadata": {},
   "outputs": [
    {
     "name": "stdout",
     "output_type": "stream",
     "text": [
      "key :x ,value:1\n",
      "key :b ,value:2\n",
      "key :c ,value:3\n",
      "key :d ,value:4\n",
      "key :e ,value:5\n"
     ]
    }
   ],
   "source": [
    "d={}\n",
    "d[\"x\"]=1\n",
    "d[\"b\"]=2\n",
    "d[\"c\"]=3\n",
    "d[\"d\"]=4\n",
    "d[\"e\"]=5\n",
    "\n",
    "for k,v in d.items(): \n",
    "    print(f\"key :{k} ,value:{v}\")\n",
    "    \n"
   ]
  },
  {
   "cell_type": "code",
   "execution_count": 4,
   "metadata": {},
   "outputs": [
    {
     "name": "stdout",
     "output_type": "stream",
     "text": [
      "key :x ,value:1\n",
      "key :b ,value:2\n",
      "key :c ,value:3\n",
      "key :d ,value:4\n",
      "key :e ,value:5\n"
     ]
    }
   ],
   "source": [
    "#OrderedDict: 순성ㅆ는 딕셔너리 \n",
    "from collections import OrderedDict\n",
    "d= OrderedDict()\n",
    "d[\"x\"]=1\n",
    "d[\"b\"]=2\n",
    "d[\"c\"]=3\n",
    "d[\"d\"]=4\n",
    "d[\"e\"]=5\n",
    "\n",
    "for k,v in d.items(): \n",
    "    print(f\"key :{k} ,value:{v}\")"
   ]
  },
  {
   "cell_type": "code",
   "execution_count": 10,
   "metadata": {},
   "outputs": [
    {
     "name": "stdout",
     "output_type": "stream",
     "text": [
      "key: b, value: 2\n",
      "key: c, value: 3\n",
      "key: d, value: 4\n",
      "key: e, value: 5\n",
      "key: x, value: 1\n"
     ]
    }
   ],
   "source": [
    "# 정렬 해보기 \n",
    "def sort_by_key(t):\n",
    "    return t[0]  # 첫 번째 요소\n",
    "\n",
    "from collections import OrderedDict\n",
    "\n",
    "d = OrderedDict()\n",
    "d[\"x\"] = 1\n",
    "d[\"b\"] = 2\n",
    "d[\"c\"] = 3\n",
    "d[\"d\"] = 4\n",
    "d[\"e\"] = 5\n",
    "\n",
    "for k, v in OrderedDict(sorted(d.items(), key=sort_by_key)).items():\n",
    "    print(f\"key: {k}, value: {v}\")\n"
   ]
  }
 ],
 "metadata": {
  "kernelspec": {
   "display_name": "Python 3",
   "language": "python",
   "name": "python3"
  },
  "language_info": {
   "codemirror_mode": {
    "name": "ipython",
    "version": 3
   },
   "file_extension": ".py",
   "mimetype": "text/x-python",
   "name": "python",
   "nbconvert_exporter": "python",
   "pygments_lexer": "ipython3",
   "version": "3.12.0"
  },
  "orig_nbformat": 4
 },
 "nbformat": 4,
 "nbformat_minor": 2
}
