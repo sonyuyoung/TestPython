{
 "cells": [
  {
   "cell_type": "code",
   "execution_count": 17,
   "metadata": {},
   "outputs": [
    {
     "name": "stdout",
     "output_type": "stream",
     "text": [
      "출력해보기 syy:hi,이름:손유영,나이:30,이메일 :syy@syy\n",
      "변경한 이메일:syy_1206@naver.com\n",
      "출력해보기 syy:hi,이름:손유영,나이:30,이메일 :syy_1206@naver.com\n",
      "출력해보기 child1: hi,이름:자식1,나이:20,이메일 :자식1@naver.com\n",
      "출력해보기 child2: hi,이름:자식2,나이:30,이메일 :자식2@naver.com\n",
      "나의 취미는 : netflix\n"
     ]
    }
   ],
   "source": [
    "\n",
    "class Person(object):\n",
    "    # 매개변수가 3개인 생성자 \n",
    "    # 해당 클래스 사용시 반드시 호출되는함수 \n",
    "    def __init__(self,name,age,email):\n",
    "        self.name=name\n",
    "        self.age=age\n",
    "        self.email=email\n",
    "\n",
    "\n",
    "    def change_email(self,newEmail):\n",
    "        self.email= newEmail\n",
    "        print(f\"변경한 이메일:{newEmail}\")\n",
    "\n",
    "    def __str__(self) :\n",
    "        return f\"hi,이름:{self.name},나이:{self.age},이메일 :{self.email}\"\n",
    "    \n",
    "# 클래스 사용하기 \n",
    "syy = Person(\"손유영\",30,\"syy@syy\")\n",
    "print(f\"출력해보기 syy:{syy}\")\n",
    "\n",
    "# 이메일변경해보기 \n",
    "syy.change_email(\"syy_1206@naver.com\")\n",
    "print(f\"출력해보기 syy:{syy}\")\n",
    "\n",
    "# 부모클래스가 : Person \n",
    "# 자식클래스 : Child\n",
    "class Child(Person):\n",
    "    pass \n",
    "\n",
    "child1 = Child(\"자식1\",20,\"자식1@naver.com\")\n",
    "print(f\"출력해보기 child1: {child1}\")\n",
    "\n",
    "# 주의사항 : 상속을 받았다면 반드시 부모의 생성자를 먼저 호출한후 자신의 생성자 호출\n",
    "class Child2(Person):\n",
    "  def __init__(self, name, age, email,hobby):\n",
    "    super().__init__(name, age, email)\n",
    "    self.hobby = hobby\n",
    "\n",
    "  def show_hobby(self):\n",
    "    print(f\"나의 취미는 : {self.hobby}\")  \n",
    "        \n",
    " # 클래스 사용하기\n",
    "child2 = Child2(\"자식2\",30,\"자식2@naver.com\",\"netflix\")\n",
    "print(f\"출력해보기 child2: {child2}\")       \n",
    "child2.show_hobby()  \n"
   ]
  },
  {
   "cell_type": "code",
   "execution_count": 22,
   "metadata": {},
   "outputs": [
    {
     "name": "stdout",
     "output_type": "stream",
     "text": [
      "동물이름 야옹1, 소리: 야옹\n",
      "동물이름 야옹2, 소리: 야옹\n",
      "동물이름 멍멍1, 소리: 멍멍\n",
      "동물이름 멍멍2, 소리: 멍멍\n",
      "동물이름 몽키, 소리: 우끼\n"
     ]
    }
   ],
   "source": [
    "# 다형성 테스트\n",
    "class Animal:\n",
    "    def __init__(self, name):\n",
    "        self.name = name\n",
    "\n",
    "    def talk(self):\n",
    "        raise NotImplementedError(\"Subclass must implement abstract method\")\n",
    "\n",
    "class Cat(Animal):\n",
    "    def talk(self):\n",
    "        return \"야옹\"\n",
    "\n",
    "class Dog(Animal):\n",
    "    def talk(self):\n",
    "        return \"멍멍\"\n",
    "\n",
    "class Monkey(Animal):\n",
    "    def __init__(self, name):\n",
    "        super().__init__(name)\n",
    "\n",
    "    def talk(self):\n",
    "        return \"우끼\"\n",
    "\n",
    "animals = [Cat(\"야옹1\"), Cat(\"야옹2\"), Dog(\"멍멍1\"), Dog(\"멍멍2\"), Monkey(\"몽키\")]\n",
    "\n",
    "for animal in animals:\n",
    "    print(f\"동물이름 {animal.name}, 소리: {animal.talk()}\")"
   ]
  },
  {
   "cell_type": "code",
   "execution_count": 27,
   "metadata": {},
   "outputs": [
    {
     "name": "stdout",
     "output_type": "stream",
     "text": [
      "new Item added\n",
      "new Item added\n",
      "my_inventory.__item조회:[<__main__.Product object at 0x103da1dc0>, <__main__.Product object at 0x103da2300>]\n"
     ]
    }
   ],
   "source": [
    "#가시성 테스트 \n",
    "class Product(object):\n",
    "    pass \n",
    "\n",
    "class Inventody(object):\n",
    "# 생성자 \n",
    "    def __init__(self):\n",
    "        self.__items=[]\n",
    "#외부에서 접근하게하는 @property 속성 사용 \n",
    "    @property\n",
    "    def items(self):\n",
    "        return self.__items\n",
    "\n",
    "#아이템 추가함수 \n",
    "    def add_new_item(self,product):\n",
    "        if type(product)==Product:\n",
    "            self.__items.append(product)\n",
    "            print(\"new Item added\")\n",
    "        else:\n",
    "            raise ValueError(\"Invalid Item\")\n",
    "#아이템 번호 확인 함수    \n",
    "    def get_number_of_items(self):\n",
    "        return len(self.__items)  \n",
    "#클래스 사용 \n",
    "my_inventory = Inventody()\n",
    "my_inventory.add_new_item(Product())\n",
    "my_inventory.add_new_item(Product())\n",
    "\n",
    "#print(f\"my_inventory.__item조회:{my_inventory.__items}\")\n",
    "print(f\"my_inventory.__item조회:{my_inventory.items}\")"
   ]
  }
 ],
 "metadata": {
  "kernelspec": {
   "display_name": "Python 3",
   "language": "python",
   "name": "python3"
  },
  "language_info": {
   "codemirror_mode": {
    "name": "ipython",
    "version": 3
   },
   "file_extension": ".py",
   "mimetype": "text/x-python",
   "name": "python",
   "nbconvert_exporter": "python",
   "pygments_lexer": "ipython3",
   "version": "3.12.0"
  },
  "orig_nbformat": 4
 },
 "nbformat": 4,
 "nbformat_minor": 2
}
