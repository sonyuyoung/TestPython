{
 "cells": [
  {
   "cell_type": "code",
   "execution_count": 13,
   "metadata": {},
   "outputs": [
    {
     "name": "stdout",
     "output_type": "stream",
     "text": [
      "출력해보기 syy:hi,이름:손유영,나이:30,이메일 :syy@syy\n",
      "변경한 이메일:syy_1206@naver.com\n",
      "출력해보기 syy:hi,이름:손유영,나이:30,이메일 :syy_1206@naver.com\n",
      "출력해보기 child1: hi,이름:자식1,나이:20,이메일 :자식1@naver.com\n",
      "출력해보기 child2: hi,이름:자식2,나이:30,이메일 :자식2@naver.com\n"
     ]
    },
    {
     "ename": "AttributeError",
     "evalue": "'Child2' object has no attribute 'show_hobby'",
     "output_type": "error",
     "traceback": [
      "\u001b[0;31m---------------------------------------------------------------------------\u001b[0m",
      "\u001b[0;31mAttributeError\u001b[0m                            Traceback (most recent call last)",
      "Cell \u001b[0;32mIn[13], line 45\u001b[0m\n\u001b[1;32m     43\u001b[0m child2 \u001b[39m=\u001b[39m Child2(\u001b[39m\"\u001b[39m\u001b[39m자식2\u001b[39m\u001b[39m\"\u001b[39m,\u001b[39m30\u001b[39m,\u001b[39m\"\u001b[39m\u001b[39m자식2@naver.com\u001b[39m\u001b[39m\"\u001b[39m,\u001b[39m\"\u001b[39m\u001b[39mnetflix\u001b[39m\u001b[39m\"\u001b[39m)\n\u001b[1;32m     44\u001b[0m \u001b[39mprint\u001b[39m(\u001b[39mf\u001b[39m\u001b[39m\"\u001b[39m\u001b[39m출력해보기 child2: \u001b[39m\u001b[39m{\u001b[39;00mchild2\u001b[39m}\u001b[39;00m\u001b[39m\"\u001b[39m)       \n\u001b[0;32m---> 45\u001b[0m child2\u001b[39m.\u001b[39;49mshow_hobby()  \n",
      "\u001b[0;31mAttributeError\u001b[0m: 'Child2' object has no attribute 'show_hobby'"
     ]
    }
   ],
   "source": [
    "\n",
    "class Person(object):\n",
    "    # 매개변수가 3개인 생성자 \n",
    "    # 해당 클래스 사용시 반드시 호출되는함수 \n",
    "    def __init__(self,name,age,email):\n",
    "        self.name=name\n",
    "        self.age=age\n",
    "        self.email=email\n",
    "\n",
    "\n",
    "    def change_email(self,newEmail):\n",
    "        self.email= newEmail\n",
    "        print(f\"변경한 이메일:{newEmail}\")\n",
    "\n",
    "    def __str__(self) :\n",
    "        return f\"hi,이름:{self.name},나이:{self.age},이메일 :{self.email}\"\n",
    "    \n",
    "# 클래스 사용하기 \n",
    "syy = Person(\"손유영\",30,\"syy@syy\")\n",
    "print(f\"출력해보기 syy:{syy}\")\n",
    "\n",
    "# 이메일변경해보기 \n",
    "syy.change_email(\"syy_1206@naver.com\")\n",
    "print(f\"출력해보기 syy:{syy}\")\n",
    "\n",
    "# 부모클래스가 : Person \n",
    "# 자식클래스 : Child\n",
    "class Child(Person):\n",
    "    pass \n",
    "\n",
    "child1 = Child(\"자식1\",20,\"자식1@naver.com\")\n",
    "print(f\"출력해보기 child1: {child1}\")\n",
    "\n",
    "# 주의사항 : 상속을 받았다면 반드시 부모의 생성자를 먼저 호출한후 자신의 생성자 호출\n",
    "class Child2(Person):\n",
    "  def __init__(self, name, age, email,hobby):\n",
    "    super().__init__(name, age, email)\n",
    "    self.hobby = hobby\n",
    "\n",
    "\n",
    "    def show_hobby(self):\n",
    "        print(f\"나의 취미는:{self.hobby}\")  \n",
    "        \n",
    " # 클래스 사용하기\n",
    "child2 = Child2(\"자식2\",30,\"자식2@naver.com\",\"netflix\")\n",
    "print(f\"출력해보기 child2: {child2}\")       \n",
    "child2.show_hobby()  \n"
   ]
  }
 ],
 "metadata": {
  "kernelspec": {
   "display_name": "Python 3",
   "language": "python",
   "name": "python3"
  },
  "language_info": {
   "codemirror_mode": {
    "name": "ipython",
    "version": 3
   },
   "file_extension": ".py",
   "mimetype": "text/x-python",
   "name": "python",
   "nbconvert_exporter": "python",
   "pygments_lexer": "ipython3",
   "version": "3.12.0"
  },
  "orig_nbformat": 4
 },
 "nbformat": 4,
 "nbformat_minor": 2
}
